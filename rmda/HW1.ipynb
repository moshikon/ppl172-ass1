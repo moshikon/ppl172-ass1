{
 "cells": [
  {
   "cell_type": "markdown",
   "metadata": {},
   "source": [
    "# HW1 - Higher order functions and Typing\n",
    "## https://www.cs.bgu.ac.il/~ppl172\n",
    "\n",
    "Provide your answers in each cell of this notebook marked with **answer**.  \n",
    "Whenever justifications are requested, write your explanation clearly and concisely.\n",
    "\n",
    "When you write TypeScript code, make sure it passes compilation (tsc) with no type checking error.\n",
    "\n",
    "All the places where answers are expected are marked with '@@@'."
   ]
  },
  {
   "cell_type": "markdown",
   "metadata": {},
   "source": [
    "# Q1 Theoretical Questions\n",
    "### Q1.1 Type Relations \n",
    "\n",
    "* What is the intersection of the types denoted by the following two expressions:\n",
    "  \n",
    "  `{a:number}[]` and `{b:string}[]`\n",
    "  \n",
    "  Describe values in the type (give examples, characterize them) and write a TypeScript type expression that denotes this intersection.\n",
    "  "
   ]
  },
  {
   "cell_type": "markdown",
   "metadata": {},
   "source": [
    "### 1.1 Answer\n",
    "{a:number, b:string}[]\n",
    "\n",
    "Example:\n",
    "let a: {a:number}[] = [{a:8}];\n",
    "let b: {b:string}[] = [{b:'s'}];\n",
    "\n",
    "let c: {a:number, b:string}[] = [{a:8, b:'s'}];\n",
    "\n",
    "a=c; #compiled\n",
    "b=c; #compiled\n",
    "\n",
    "c=a; #compilation error: Type '{ a: number; }[]' is not assignable to type '{ a: number; b: string; }[]'. Type '{ a: number; }' is not assignable to type '{ a: number; b: string; }'. Property 'b' is missing in type '{ a: number; }'."
   ]
  },
  {
   "cell_type": "markdown",
   "metadata": {},
   "source": [
    "### Q1.2 Subtypes\n",
    "\n",
    "* For each of the pairs (T1, T2) below, determine whether the type T1 is a subtype of T2 - justify your answer:\n",
    "\n",
    "```\n",
    "1.2.1 \n",
    "type T1 = {a:number, b:{}}\n",
    "type T2 = {a:number}\n",
    "\n",
    "1.2.2\n",
    "type T1 = {a:number, b:any}\n",
    "type T2 = {a:number}\n",
    "\n",
    "1.2.3\n",
    "type T1 = {a:number, b:undefined}\n",
    "type T2 = {a:number}\n",
    "```"
   ]
  },
  {
   "cell_type": "markdown",
   "metadata": {},
   "source": [
    "### 1.2 Answer\n",
    "\n",
    "1.2.1\n",
    "Yes, all the values in T1 satisfy the constraints of T2.\n",
    "\n",
    "type T1 = {a:number, b:{}}\n",
    "type T2 = {a:number}\n",
    "\n",
    "let a: T1 = {a:8,  b:{a:1, b:\"s\", c:false}};\n",
    "let b: T2 = {a:8};\n",
    "\n",
    "b=a; #compiled\n",
    "\n",
    "1.2.2\n",
    "Yes, all the values in T1 satisfy the constraints of T2.\n",
    "\n",
    "type T1 = {a:number, b:any}\n",
    "type T2 = {a:number}\n",
    "\n",
    "let a: T1 = {a:8,  b:true};\n",
    "let b: T2 = {a:8};\n",
    "\n",
    "b=a; #compiled\n",
    "\n",
    "1.2.3\n",
    "Yes, all the values in T1 satisfy the constraints of T2.\n",
    "\n",
    "type T1 = {a:number, b:undefined}\n",
    "type T2 = {a:number}\n",
    "\n",
    "let a: T1 = {a:8,  b:undefined};\n",
    "let b: T2 = {a:8};\n",
    "\n",
    "b=a; #compiled\n"
   ]
  },
  {
   "cell_type": "markdown",
   "metadata": {},
   "source": [
    "### Q1.3 Type Inference\n",
    "\n",
    "* Write the type of the following values as a TypeScript type expression:\n",
    "  * let v1 = `[{a:1}]`,\n",
    "  *     v2 = `{a:[1]}`\n",
    "  *     v3 = `x => x / 2`,\n",
    "  *     v4 = `(f, x) => f(f(x))`"
   ]
  },
  {
   "cell_type": "markdown",
   "metadata": {},
   "source": [
    "### 1.3 Answer\n",
    "\n",
    "Type of v1 is: \n",
    "```\n",
    "{a:number}[]\n",
    "```\n",
    "\n",
    "Type of v2 is:\n",
    "```\n",
    "{a:number[]}\n",
    "```\n",
    "\n",
    "Type of v3 is:\n",
    "```\n",
    "(x:number) => number\n",
    "```\n",
    "\n",
    "Type of v4 is:\n",
    "```\n",
    "<T>(f:<T>(x:T)=>T, x:T) => T\n",
    "```"
   ]
  },
  {
   "cell_type": "markdown",
   "metadata": {},
   "source": [
    "* Compare the expression in `v3` and `v4` and explain when the inferred type expression contains type variables."
   ]
  },
  {
   "cell_type": "markdown",
   "metadata": {},
   "source": [
    "**Answer:**\n",
    "\n",
    "In v3 we have mathematical function thats why we understood that the type should be a number.\n",
    "In v4 we use genric type and not 'any' beacuse the funcation gets the same value as it returns and operate it again."
   ]
  },
  {
   "cell_type": "markdown",
   "metadata": {},
   "source": [
    "### Q1.4 Function Type Inference\n",
    "\n",
    "Consider the following function:"
   ]
  },
  {
   "cell_type": "code",
   "execution_count": 1,
   "metadata": {
    "collapsed": false
   },
   "outputs": [
    {
     "data": {
      "text/plain": [
       "true"
      ]
     },
     "execution_count": 1,
     "metadata": {},
     "output_type": "execute_result"
    }
   ],
   "source": [
    "const invokeN1 = (f, n) => \n",
    "    n === 0 ? (x) => x : (x) => f(invokeN1(f,n-1)(x))"
   ]
  },
  {
   "cell_type": "markdown",
   "metadata": {},
   "source": [
    "  * Describe what the function computes in words\n",
    "  * Write the type of the function invokeN."
   ]
  },
  {
   "cell_type": "markdown",
   "metadata": {},
   "source": [
    "### 1.4 Answer\n",
    "\n",
    "The function invokeN1 compute f, n times on input x.\n",
    "For example, invokeN1(f,3)(x) === f(f(f(x)))\n",
    "\n",
    "const invokeN1:<T>(f:<T>(x:T)=>T, n:Number) => <T>(x:T)=>T = (f, n) =>\n",
    "    n === 0 ? (x) => x : (x) => f(invokeN1(f,n-1)(x))\n"
   ]
  },
  {
   "cell_type": "markdown",
   "metadata": {},
   "source": [
    "### Q1.5 Types and Values\n",
    "\n",
    "* **1.5.1**: Is it possible to design a type in TypeScript that denotes the empty set using the constructs described in class?"
   ]
  },
  {
   "cell_type": "markdown",
   "metadata": {},
   "source": [
    "* **Answer 1.5.1**:\n",
    "\n",
    "No. From typescript documentation: \"By default null and undefined are subtypes of **all** other types. That means you can assign null and undefined to something like number.\""
   ]
  },
  {
   "cell_type": "markdown",
   "metadata": {},
   "source": [
    "* **1.5.2** Is it possible to design a type in TypeScript that denotes a finite set of 5 values?"
   ]
  },
  {
   "cell_type": "markdown",
   "metadata": {},
   "source": [
    "* **Answer 1.5.2**:\n",
    "\n",
    "No."
   ]
  },
  {
   "cell_type": "markdown",
   "metadata": {},
   "source": [
    "* **1.5.3** Is it possible to design a type in TypeScript that denotes the set of even numbers?"
   ]
  },
  {
   "cell_type": "markdown",
   "metadata": {},
   "source": [
    "* **Answer 1.5.3**:\n",
    "\n",
    "Possible. Because JavaScript has maximum & minimum numeric value (Number.MAX_VALUE, Number.MIN_VALUE), we can code: \n",
    "type even = ....-2|0|2|4|6....\n",
    "it is a finite expression."
   ]
  },
  {
   "cell_type": "markdown",
   "metadata": {},
   "source": [
    "# Q2 Functional Abstractions over Trees\n",
    "\n",
    "Consider the definition of the inductive Tree data type.\n",
    "\n",
    "The set of Tree values is defined inductively as follows:\n",
    "* There is no empty tree.\n",
    "* The smallest tree is a tree with no children - a single node containing a single data element denoted $leaf(v)$.\n",
    "* For a set of trees $t_1, \\ldots, t_n$ and a data element $v_0$, one can construct a new tree whose root is has value $v_0$ and children $(t_1, \\ldots, t_n)$ - denoted $tree(v_0, (t_1, \\ldots, t_n))$.\n",
    "\n",
    "In this inductive definition, the height of the trees determines the inductive size of trees. The height of a tree is defined inductively as:\n",
    "* The height of a tree with no children is 0: $h(leaf(v)) = 0$.\n",
    "* For a tree with children, the height of the tree is 1 more than the max height of the children:\n",
    "  $h(tree(v_0, (t_1, \\ldots, t_n))) = 1 + max_{i \\in \\{1 \\ldots n\\}} h(t_i)$\n",
    "  \n",
    "Other properties or computations on trees have a similar inductive definition."
   ]
  },
  {
   "cell_type": "markdown",
   "metadata": {},
   "source": [
    "We write the following definition of a type denoting the set of Tree values as follows:"
   ]
  },
  {
   "cell_type": "code",
   "execution_count": 2,
   "metadata": {
    "collapsed": false
   },
   "outputs": [
    {
     "data": {
      "text/plain": [
       "{ root: 1,\n",
       "  children: [ { root: 2, children: [] }, { root: 3, children: [Object] } ] }"
      ]
     },
     "execution_count": 2,
     "metadata": {},
     "output_type": "execute_result"
    }
   ],
   "source": [
    "interface Tree<T> {\n",
    "    root: T;\n",
    "    children: Tree<T>[];\n",
    "}\n",
    "\n",
    "{\n",
    "    let b: Tree<number> = {\n",
    "        root: 1,\n",
    "        children: [\n",
    "            {root: 2, children: []},\n",
    "            {root: 3, children: [\n",
    "                {root: 4, children:[]}\n",
    "            ]}\n",
    "        ]\n",
    "    }\n",
    "    b;\n",
    "}"
   ]
  },
  {
   "cell_type": "markdown",
   "metadata": {},
   "source": [
    "We define the following functions to manipulate Tree values - providing an abstract interface for trees.\n",
    "It consists of two constructors - for leaf trees and non-leaf trees - and three accessors:"
   ]
  },
  {
   "cell_type": "code",
   "execution_count": 3,
   "metadata": {
    "collapsed": false
   },
   "outputs": [
    {
     "data": {
      "text/plain": [
       "true"
      ]
     },
     "execution_count": 3,
     "metadata": {},
     "output_type": "execute_result"
    }
   ],
   "source": [
    "const makeLeaf : <T>(v:T)=>Tree<T> =\n",
    "    v => {return {root: v, children:[]};}\n",
    "    \n",
    "const makeTree : <T>(v:T, children:Tree<T>[])=>Tree<T> =\n",
    "    (v, children) => { return {root:v, children:children}}\n",
    "\n",
    "const treeRoot : <T>(t: Tree<T>)=>T =\n",
    "    t => t.root;\n",
    "\n",
    "const treeChildren: <T>(t: Tree<T>)=>Tree<T>[] =\n",
    "    t => t.children;\n",
    "    \n",
    "const treeLeaf : <T>(t: Tree<T>)=>boolean =\n",
    "    t => t.children.length === 0;"
   ]
  },
  {
   "cell_type": "code",
   "execution_count": 4,
   "metadata": {
    "collapsed": false
   },
   "outputs": [
    {
     "data": {
      "text/plain": [
       "true"
      ]
     },
     "execution_count": 4,
     "metadata": {},
     "output_type": "execute_result"
    }
   ],
   "source": [
    "treeLeaf(makeLeaf(5))"
   ]
  },
  {
   "cell_type": "markdown",
   "metadata": {},
   "source": [
    "A function manipulating Tree values will typically perform a recursion similar to that observed in the definition of the `treeHeight` function:"
   ]
  },
  {
   "cell_type": "code",
   "execution_count": 5,
   "metadata": {
    "collapsed": false
   },
   "outputs": [
    {
     "data": {
      "text/plain": [
       "1"
      ]
     },
     "execution_count": 5,
     "metadata": {},
     "output_type": "execute_result"
    }
   ],
   "source": [
    "import {map, reduce} from 'ramda'\n",
    "\n",
    "const treeHeight : <T>(t:Tree<T>)=>number =\n",
    "    t => treeLeaf(t) ? \n",
    "            0 : \n",
    "            1 + reduce(Math.max, 0, map(treeHeight, treeChildren(t)));\n",
    "            \n",
    "treeHeight(makeTree(1, [makeLeaf(2), makeLeaf(3)]))"
   ]
  },
  {
   "cell_type": "code",
   "execution_count": 6,
   "metadata": {
    "collapsed": false
   },
   "outputs": [
    {
     "data": {
      "text/plain": [
       "2"
      ]
     },
     "execution_count": 6,
     "metadata": {},
     "output_type": "execute_result"
    }
   ],
   "source": [
    "treeHeight({ root: 1, children: [ { root: 2, children: [] }, { root: 3, children: [{root: 4, children:[]}] } ] })"
   ]
  },
  {
   "cell_type": "markdown",
   "metadata": {},
   "source": [
    "Other functions that operate on tree values will adopt a similar pattern of recursion:\n",
    "\n",
    "```\n",
    "const f: <T1,T2>(t:Tree<T1>)=>T2 =\n",
    "    t => treeLeaf(t) ? <basecase> : ...map(f, t.children)...;\n",
    "```\n",
    "\n",
    "In this question, we define **functional abstractions** over Tree values similar to the sequence interface we used over Array values - `map, filter, forEach, some, every, reduce`.\n",
    "\n",
    "We first define the type of the functions that will be passed as arguments to these higher order functions:"
   ]
  },
  {
   "cell_type": "code",
   "execution_count": 7,
   "metadata": {
    "collapsed": false
   },
   "outputs": [
    {
     "data": {
      "text/plain": [
       "true"
      ]
     },
     "execution_count": 7,
     "metadata": {},
     "output_type": "execute_result"
    }
   ],
   "source": [
    "type Command<T> = (x:T)=>void;\n",
    "type Transformer<T1,T2> = (x:T1)=>T2;\n",
    "type Predicate<T> = (x:T)=>boolean;\n",
    "type Accumulator<T1,T2> = (acc:T1, item:T2)=>T1;"
   ]
  },
  {
   "cell_type": "markdown",
   "metadata": {},
   "source": [
    "**Define the following functional abstractions over trees.**\n",
    "\n",
    "For each function:\n",
    "* provide the function definition \n",
    "* and four good test covering the code of the function as much as possible.\n",
    "\n",
    "Make sure your solution follows Functional Programming practice with no mutation to any variable."
   ]
  },
  {
   "cell_type": "markdown",
   "metadata": {},
   "source": [
    "### Question 2.1 treeMap\n",
    "\n",
    "`treeMap` operates over a Tree value.  It returns a new tree of the same shape as its parameter, where the value of each node is transformed by `f`."
   ]
  },
  {
   "cell_type": "code",
   "execution_count": 8,
   "metadata": {
    "collapsed": false
   },
   "outputs": [
    {
     "data": {
      "text/plain": [
       "true"
      ]
     },
     "execution_count": 8,
     "metadata": {},
     "output_type": "execute_result"
    }
   ],
   "source": [
    "// Answer 2.1\n",
    "const treeMap: <T1,T2>(f: Transformer<T1,T2>, tree: Tree<T1>)=>Tree<T2> =\n",
    "    (f, tree) => treeLeaf(tree) ?\n",
    "            makeLeaf(f(treeRoot(tree))) :\n",
    "            makeTree(f(treeRoot(tree)), treeChildren(tree).map((tree) => treeMap(f, tree)));"
   ]
  },
  {
   "cell_type": "code",
   "execution_count": 9,
   "metadata": {
    "collapsed": false
   },
   "outputs": [
    {
     "data": {
      "text/plain": [
       "'all ok'"
      ]
     },
     "execution_count": 9,
     "metadata": {},
     "output_type": "execute_result"
    }
   ],
   "source": [
    "// treeMap test 1\n",
    "import * as assert from 'assert';\n",
    "let tree1 = makeTree(1, [makeLeaf(2), makeLeaf(3)]);\n",
    "assert.deepEqual(treeMap((x:number) => x*x, tree1), { root: 1, children: [ { root: 4, children: [] }, { root: 9, children: [] } ] } , \"test1\");\n",
    "\"all ok\";"
   ]
  },
  {
   "cell_type": "code",
   "execution_count": 10,
   "metadata": {
    "collapsed": false
   },
   "outputs": [
    {
     "data": {
      "text/plain": [
       "'all ok'"
      ]
     },
     "execution_count": 10,
     "metadata": {},
     "output_type": "execute_result"
    }
   ],
   "source": [
    "// treeMap test 2\n",
    "let tree2 = makeTree(\"a\", [makeLeaf(\"aa\"), makeLeaf(\"aaa\")]);\n",
    "assert.deepEqual(treeMap((s:string) => s.length , tree2), { root: 1, children: [ { root: 2, children: [] }, { root: 3, children: [] } ] } , \"test2\");\n",
    "\"all ok\";"
   ]
  },
  {
   "cell_type": "code",
   "execution_count": 11,
   "metadata": {
    "collapsed": false
   },
   "outputs": [
    {
     "data": {
      "text/plain": [
       "'all ok'"
      ]
     },
     "execution_count": 11,
     "metadata": {},
     "output_type": "execute_result"
    }
   ],
   "source": [
    "// treeMap test 3\n",
    "let tree3 = makeTree(\"aaaa\", []);\n",
    "assert.deepEqual(treeMap((s:string) => s.length , tree3), { root: 4, children: [] } , \"test3\");\n",
    "\"all ok\";"
   ]
  },
  {
   "cell_type": "code",
   "execution_count": 12,
   "metadata": {
    "collapsed": false
   },
   "outputs": [
    {
     "data": {
      "text/plain": [
       "'all ok'"
      ]
     },
     "execution_count": 12,
     "metadata": {},
     "output_type": "execute_result"
    }
   ],
   "source": [
    "// treeMap test 4\n",
    "let tree4 = makeTree(1,  [ makeTree(2, [makeLeaf(3), makeLeaf(4)]) , makeTree(5, [makeLeaf(6), makeLeaf(7)])  ]   );\n",
    "let newTree = treeMap((x:number) => x*x, tree4)\n",
    "assert.deepEqual(newTree.children[1].children[1].root, 49 , \"test4\");\n",
    "\"all ok\";"
   ]
  },
  {
   "cell_type": "markdown",
   "metadata": {},
   "source": [
    "### Question 2.2 treeForEachDF\n",
    "\n",
    "`treeForEachDF` operates over a Tree value.  It traverses the tree node by node in depth-first order and applies the command `f` on each one.  The side effects of the command are observed in depth-first order."
   ]
  },
  {
   "cell_type": "code",
   "execution_count": 13,
   "metadata": {
    "collapsed": false
   },
   "outputs": [
    {
     "data": {
      "text/plain": [
       "true"
      ]
     },
     "execution_count": 13,
     "metadata": {},
     "output_type": "execute_result"
    }
   ],
   "source": [
    "// Answer 2.2 \n",
    "const treeForEachDF: <T>(f: Command<T>, tree: Tree<T>)=>void =\n",
    "    (f, tree) => {\n",
    "              if (treeLeaf(tree)){\n",
    "                f(treeRoot(tree));\n",
    "              }else{\n",
    "                treeChildren(tree).forEach((tree) => treeForEachDF(f, tree));\n",
    "                f(treeRoot(tree));\n",
    "              }\n",
    "            }"
   ]
  },
  {
   "cell_type": "code",
   "execution_count": 14,
   "metadata": {
    "collapsed": false
   },
   "outputs": [
    {
     "data": {
      "text/plain": [
       "'all ok'"
      ]
     },
     "execution_count": 14,
     "metadata": {},
     "output_type": "execute_result"
    }
   ],
   "source": [
    "// treeForEachDF test 1\n",
    "let i=0\n",
    "treeForEachDF( () => {++i}, makeTree(1,[]))\n",
    "assert.ok(i === 1)\n",
    "\"all ok\""
   ]
  },
  {
   "cell_type": "code",
   "execution_count": 15,
   "metadata": {
    "collapsed": false
   },
   "outputs": [
    {
     "data": {
      "text/plain": [
       "'all ok'"
      ]
     },
     "execution_count": 15,
     "metadata": {},
     "output_type": "execute_result"
    }
   ],
   "source": [
    "// treeForEachDF test 2\n",
    "let tmp =\"DFS - \";\n",
    "treeForEachDF((x) => {tmp=tmp+x}, makeTree(\"d!!\",[makeTree(\"y \", [makeLeaf(\"ve\"), makeLeaf(\"r\")]) , makeTree(\"o\", [makeLeaf(\"g\"), makeLeaf(\"o\")])]))\n",
    "assert.ok(tmp === \"DFS - very good!!\")\n",
    "\"all ok\""
   ]
  },
  {
   "cell_type": "code",
   "execution_count": 16,
   "metadata": {
    "collapsed": false
   },
   "outputs": [
    {
     "data": {
      "text/plain": [
       "'all ok'"
      ]
     },
     "execution_count": 16,
     "metadata": {},
     "output_type": "execute_result"
    }
   ],
   "source": [
    "// treeForEachDF test 3\n",
    "let j=2\n",
    "treeForEachDF((x) => {j=j+x}, makeTree(1,[makeTree(2, [makeLeaf(3), makeLeaf(4)]) , makeTree(5, [makeLeaf(6), makeLeaf(7)])]))\n",
    "assert.ok(j === 30)\n",
    "\"all ok\""
   ]
  },
  {
   "cell_type": "code",
   "execution_count": 17,
   "metadata": {
    "collapsed": false
   },
   "outputs": [
    {
     "data": {
      "text/plain": [
       "'all ok'"
      ]
     },
     "execution_count": 17,
     "metadata": {},
     "output_type": "execute_result"
    }
   ],
   "source": [
    "// treeForEachDF test 4\n",
    "let tree = makeTree(1,[makeTree(2, [makeLeaf(3), makeLeaf(4)]) , makeTree(5, [makeLeaf(6), makeLeaf(7)])])\n",
    "let k=0\n",
    "treeForEachDF( () => {++k}, tree)\n",
    "assert.ok(k === 7)\n",
    "\"all ok\""
   ]
  },
  {
   "cell_type": "markdown",
   "metadata": {},
   "source": [
    "### Question 2.3 treeReduceDF\n",
    "\n",
    "`treeReduceDF` operates in a way similar to `reduce` on arrays: it traverses the tree in depth-first order, and at each node `t`, it computes `f(acc, t.root)` and continues with the value returned as the value of `acc` passed in the next node."
   ]
  },
  {
   "cell_type": "code",
   "execution_count": 18,
   "metadata": {
    "collapsed": false
   },
   "outputs": [
    {
     "data": {
      "text/plain": [
       "true"
      ]
     },
     "execution_count": 18,
     "metadata": {},
     "output_type": "execute_result"
    }
   ],
   "source": [
    "const treeReduceDF: <T1,T2>(f: Accumulator<T1,T2>, init: T1, tree: Tree<T2>)=>T1 =\n",
    "  (f, init, tree) =>\n",
    "        (treeLeaf(tree)?\n",
    "          f (init ,(treeRoot(tree))):\n",
    "          f (treeChildren(tree).reduce((x, tree) => treeReduceDF(f, x ,tree) , init) ,(treeRoot(tree))));"
   ]
  },
  {
   "cell_type": "code",
   "execution_count": 19,
   "metadata": {
    "collapsed": false
   },
   "outputs": [
    {
     "data": {
      "text/plain": [
       "'all ok'"
      ]
     },
     "execution_count": 19,
     "metadata": {},
     "output_type": "execute_result"
    }
   ],
   "source": [
    "// treeReduceDF test 1\n",
    "assert.ok(6 === treeReduceDF<number, number>((x, y)=>x+y, 0, makeTree(1, [makeLeaf(2), makeLeaf(3)])))\n",
    "\"all ok\""
   ]
  },
  {
   "cell_type": "code",
   "execution_count": 20,
   "metadata": {
    "collapsed": false
   },
   "outputs": [
    {
     "data": {
      "text/plain": [
       "'all ok'"
      ]
     },
     "execution_count": 20,
     "metadata": {},
     "output_type": "execute_result"
    }
   ],
   "source": [
    "// treeReduceDF test 2\n",
    "assert.ok(\"DFS - OK!\" === treeReduceDF<string, string>((x, y)=>x+y, \"DFS - \", makeTree(\"!\", [makeLeaf(\"O\"), makeLeaf(\"K\")])))\n",
    "\"all ok\""
   ]
  },
  {
   "cell_type": "code",
   "execution_count": 21,
   "metadata": {
    "collapsed": false
   },
   "outputs": [
    {
     "data": {
      "text/plain": [
       "'all ok'"
      ]
     },
     "execution_count": 21,
     "metadata": {},
     "output_type": "execute_result"
    }
   ],
   "source": [
    "// treeReduceDF test 3\n",
    "assert.ok(128 === treeReduceDF<number, number>((x, y)=>x*y, 1,  makeTree(2,[makeTree(2, [makeLeaf(2), makeLeaf(2)]) , makeTree(2, [makeLeaf(2), makeLeaf(2)])])));\n",
    "\"all ok\""
   ]
  },
  {
   "cell_type": "code",
   "execution_count": 22,
   "metadata": {
    "collapsed": false
   },
   "outputs": [
    {
     "data": {
      "text/plain": [
       "'all ok'"
      ]
     },
     "execution_count": 22,
     "metadata": {},
     "output_type": "execute_result"
    }
   ],
   "source": [
    "// treeReduceDF test 4\n",
    "assert.ok(33343 === treeReduceDF<number, number>(Math.max, -1000, makeTree(-4,[makeTree(2525, [makeLeaf(44), makeLeaf(0)]) , makeTree(1212, [makeLeaf(33343), makeLeaf(5)])])));\n",
    "\"all ok\""
   ]
  },
  {
   "cell_type": "markdown",
   "metadata": {},
   "source": [
    "### Question 2.4\n",
    "\n",
    "Why do we need to specify the order of traversal of the tree for `treeReduceDF`?\n",
    "\n",
    "Provide examples showing that with a different order of traversal, we could obtain different results when invoking `treeReduce`\n",
    "with the same parameters."
   ]
  },
  {
   "cell_type": "markdown",
   "metadata": {},
   "source": [
    "### Answer 2.4\n",
    "We need to specify the order of traversal of the tree for `treeReduceDF`beacuse if we don't we can get diferent results depending the function and the type to the nodes.\n",
    "for example:\n",
    "\n",
    "console.log(treeReduceDF<string, string>((x, y)=>x+y, 0, makeTree('a', [makeLeaf('b'), makeLeaf('c')])))\n",
    "in DFS = > 'bca'\n",
    "\n",
    "console.log(treeReduceDF<string, string>((x, y)=>x+y, 0, makeTree('a', [makeLeaf('b'), makeLeaf('c')])))\n",
    "in BFS = > 'abc'\n",
    "\n",
    "console.log(treeReduceDF<number, number>(Math.pow, 0, makeTree(1, [makeLeaf(2), makeLeaf(3)])))\n",
    "in DFS = > 8\n",
    "\n",
    "console.log(treeReduceDF<number, number>(Math.pow, 0, makeTree(1, [makeLeaf(2), makeLeaf(3)])))\n",
    "in BFS = > 1\n"
   ]
  },
  {
   "cell_type": "markdown",
   "metadata": {},
   "source": [
    "# Question 3: Runtime Type Checker\n",
    "\n",
    "We have practiced with TypeScript - a compiler which operates over JavaScript programs enriched with type annotations in the TypeScript type language and which performs type checking at compilation time, and outputs a JavaScript program as output.\n",
    "\n",
    "The TypeScript compiler (tsc) performs what is called **static code analysis** - an analysis of a program performed without executing the program itself.\n",
    "\n",
    "In this question, we design a **runtime type checker** - a function that verifies the type of a value at runtime - that is, check **at runtime** that a value belongs to a type.\n",
    "\n",
    "We call this function:\n",
    "\n",
    "```\n",
    "typeCheck(jsValue, typeExpression)=>boolean;\n",
    "```\n",
    "\n",
    "We first need to understand that this capability does **not** exist with TypeScript.\n",
    "TypeScript is a compiler - it provides no runtime library, it does not exist at runtime.\n",
    "After a TypeScript program is compiled into JavaScript, there are no types left in the JavaScript program, \n",
    "no type expressions and no type names.\n",
    "\n",
    "The values we want to type check at runtime, typically, will be JSON values obtained by reading from a file or from an HTTP call to a server returning JSON values.\n",
    "\n",
    "To achieve this goal, we need to represent type expressions as concrete values which will be passed to our function `typeCheck`.\n",
    "Remember - at runtime, TypeScript type expressions do not exist - so we need to create our own type expressions."
   ]
  },
  {
   "cell_type": "markdown",
   "metadata": {},
   "source": [
    "### Question 3.1 Concrete Representation of Type Expressions\n",
    "\n",
    "Let us consider a subset of the TypeScript type language that only includes the following type expressions:\n",
    "* Atomic type expressions: `number`, `string`, `boolean`\n",
    "* Arrays: for any type expression `T`, `T[]` is an array type expression.\n",
    "* Maps: for any type expressions T1,...,Tn and any strings s1,...sn - `{s1:T1, ..., sn:Tn}` is a map type expression.\n",
    "\n",
    "This is an inductive definition of the set of type expression values.\n",
    "\n",
    "Compared to the TypeScript type system we discussed in class, we do not consider function types, type unions, intersection, generic types, recursive types, undefined, any and named types.\n",
    "\n",
    "Our objective is to design a TypeScript type whose values are type expressions in this limited subset.\n",
    "We will also define functions to operate over this data type (constructors and accessors)."
   ]
  },
  {
   "cell_type": "markdown",
   "metadata": {},
   "source": [
    "For example, we want to define a value that represents the type expression `string[]`.\n",
    "We will use the following value:\n",
    "\n",
    "```\n",
    "const teSA = {\n",
    "    tag: \"array\",\n",
    "    itemType: \"string\"\n",
    "};\n",
    "```\n",
    "\n",
    "This value is the concrete representation of the type expression.\n",
    "We can pass it as an argument to the `typeCheck` function as follows:\n",
    "\n",
    "```\n",
    "typeCheck([\"aa\", \"bb\"], teSA); // true\n",
    "typeCheck([\"aa\", 1], teSA);    // false\n",
    "```\n",
    "\n",
    "We provide the following definitions using the acronym TE for Type Expression:"
   ]
  },
  {
   "cell_type": "code",
   "execution_count": 23,
   "metadata": {
    "collapsed": false
   },
   "outputs": [
    {
     "data": {
      "text/plain": [
       "true"
      ]
     },
     "execution_count": 23,
     "metadata": {},
     "output_type": "execute_result"
    }
   ],
   "source": [
    "// We adopt the Disjoint Union type pattern discussed in class.\n",
    "\n",
    "type TE = TeNumber | TeBoolean | TeString | TeArray | TeMap;\n",
    "\n",
    "// Atomic type expressions have no component\n",
    "interface TeNumber {\n",
    "    tag: \"number\";\n",
    "};\n",
    "interface TeBoolean {\n",
    "    tag: \"boolean\";\n",
    "};\n",
    "interface TeString {\n",
    "    tag: \"string\";\n",
    "};\n",
    "\n",
    "// Concrete representation of an Array Type Expression\n",
    "interface TeArray {\n",
    "    tag: \"array\";\n",
    "    itemType: TE;\n",
    "};"
   ]
  },
  {
   "cell_type": "markdown",
   "metadata": {},
   "source": [
    "**3.1** Complete the following type definition:"
   ]
  },
  {
   "cell_type": "code",
   "execution_count": 24,
   "metadata": {
    "collapsed": false
   },
   "outputs": [
    {
     "data": {
      "text/plain": [
       "true"
      ]
     },
     "execution_count": 24,
     "metadata": {},
     "output_type": "execute_result"
    }
   ],
   "source": [
    "// ANSWER 3.1: Complete the type definition\n",
    "interface TeMap {\n",
    "    tag: \"map\",\n",
    "    keys: String[],\n",
    "    types: TE[]\n",
    "};"
   ]
  },
  {
   "cell_type": "markdown",
   "metadata": {},
   "source": [
    "### Question 3.2 Type Expression Constructors and Accessors\n",
    "\n",
    "We define an abstraction barrier around the `TE` data type in the form of constructors for type expressions\n",
    "of each type and accessors to retrieve the components of compound type expression values.\n",
    "\n",
    "Complete the types and definitions of the functions marked by @@@:"
   ]
  },
  {
   "cell_type": "code",
   "execution_count": 25,
   "metadata": {
    "collapsed": false
   },
   "outputs": [
    {
     "data": {
      "text/plain": [
       "true"
      ]
     },
     "execution_count": 25,
     "metadata": {},
     "output_type": "execute_result"
    }
   ],
   "source": [
    "// Constructors\n",
    "// ============\n",
    "const makeTeString : ()=>TeString = \n",
    "    () => { return {tag:\"string\"}}\n",
    "\n",
    "const makeTeNumber : ()=>TeNumber =\n",
    "    () => { return {tag:\"number\"}}\n",
    "\n",
    "const makeTeBoolean : ()=>TeBoolean =\n",
    "    () => { return {tag:\"boolean\"}}\n",
    "\n",
    "const makeTeArray : (itemType: TE)=>TeArray =\n",
    "    itemType => { return {tag: \"array\", itemType: itemType}}\n",
    "\n",
    "const makeTeMap : (keys: String[], types: TE[])=>TeMap =\n",
    "    (keys, types) => { return {tag: \"map\", keys: keys, types:types}}\n",
    "\n",
    "\n",
    "// Type predicates\n",
    "// ===============\n",
    "const isTeNumber : (te:TE)=>boolean =\n",
    "    te => te.tag === \"number\";\n",
    "\n",
    "const isTeBoolean : (te:TE)=>boolean =\n",
    "    te => te.tag === \"boolean\";\n",
    "\n",
    "const isTeString : (te:TE)=>boolean =\n",
    "    te => te.tag === \"string\";\n",
    "\n",
    "const isTeArray : (te:TE)=>boolean =\n",
    "    te => te.tag === \"array\";\n",
    "\n",
    "const isTeMap : (te:TE)=>boolean =\n",
    "    te => te.tag === \"map\";\n",
    "\n",
    "\n",
    "// Accessors\n",
    "// =========\n",
    "const teArrayItemType : (tea : TeArray)=>TE =\n",
    "    tea => tea.itemType;\n",
    "\n",
    "const teMapKey : (tem : TeMap, key: string)=> TE =\n",
    "    (tem, key) => tem.types[tem.keys.indexOf(key)]"
   ]
  },
  {
   "cell_type": "markdown",
   "metadata": {},
   "source": [
    "Test these functions by constructing the value representing the following type expression and accessing its components:\n",
    "\n",
    "```\n",
    "{ a:string; b:number[]; c:{c1:boolean; c2:string[][]}}\n",
    "```"
   ]
  },
  {
   "cell_type": "code",
   "execution_count": 26,
   "metadata": {
    "collapsed": false
   },
   "outputs": [
    {
     "data": {
      "text/plain": [
       "'all ok'"
      ]
     },
     "execution_count": 26,
     "metadata": {},
     "output_type": "execute_result"
    }
   ],
   "source": [
    "// Test constructors\n",
    "assert.deepEqual({tag:\"string\"}, makeTeString() , \"test1\");\n",
    "assert.deepEqual({tag:\"boolean\"}, makeTeBoolean() , \"test1\");\n",
    "assert.deepEqual({tag:\"number\"}, makeTeNumber() , \"test1\");\n",
    "assert.deepEqual({tag:\"array\", itemType:{tag:\"string\"}}, makeTeArray(makeTeString()) , \"test1\");\n",
    "assert.deepEqual({tag:\"map\", keys:[\"a\"], types:[{tag:\"string\"}]}, makeTeMap([\"a\"],[makeTeString()]) , \"test1\");\n",
    "\"all ok\"\n",
    "\n",
    "let obj1 = makeTeMap([\"a\", \"b\", \"c\"],[makeTeString(), makeTeArray(makeTeNumber()), makeTeMap([\"c1\", \"c2\"],[makeTeBoolean(), makeTeArray(makeTeArray(makeTeString()))])])\n",
    "// Test accessors\n",
    "assert.deepEqual(teMapKey(obj1, \"a\"), makeTeString() , \"test1\");\n",
    "assert.deepEqual(teMapKey(obj1, \"b\"), makeTeArray(makeTeNumber()) , \"test1\");\n",
    "assert.deepEqual(teMapKey(obj1, \"c\"), makeTeMap([\"c1\", \"c2\"],[makeTeBoolean(), makeTeArray(makeTeArray(makeTeString()))]) , \"test1\");\n",
    "assert.deepEqual(teMapKey(<TeMap>teMapKey(obj1, \"c\"), \"c1\"), makeTeBoolean() , \"test1\");\n",
    "assert.deepEqual(teMapKey(<TeMap>teMapKey(obj1, \"c\"), \"c2\"), makeTeArray(makeTeArray(makeTeString())) , \"test1\");\n",
    "\"all ok\""
   ]
  },
  {
   "cell_type": "markdown",
   "metadata": {},
   "source": [
    "### Question 3.3: typeChecker as a Recursive Algorithm\n",
    "\n",
    "We now design the type checker algorithm.\n",
    "Given a JavaScript value and a type expression value - we want to verify whether the value belongs to the type denoted by the type expression.\n",
    "\n",
    "We design the rules of type checking in an inductive manner - through structural induction on the structure of the type expression values.\n",
    "\n",
    "```\n",
    "Type Checker Algorithm: \n",
    "typeCheck(jsValue:any, te:TE)=>boolean\n",
    "Verify that jsValue belongs to the type denoted by te.\n",
    "\n",
    "if te is atomic:\n",
    "    if te is `number`: checkNumber(jsValue)\n",
    "    else if te is `string`: checkString(jsValue)\n",
    "    else if te is `boolean`: checkBoolean(jsValue)\n",
    "else te is a compound type expression:    \n",
    "    if te is an array: checkArray(jsValue, te)\n",
    "    if te is a map: checkMap(jsValue, te)\n",
    "```\n",
    "\n",
    "We know that this algorithm tests all possible values of the `te` parameter based on its type (a disjoint union type).\n",
    "\n",
    "We now turn to the definition of the sub-procedures in this definition:\n",
    "\n",
    "For atomic type expressions - we rely on the JavaScript introspection primitives - `typeof`:\n",
    "```\n",
    "checkNumber: \n",
    "checkNumber(jsValue:any)=>boolean:\n",
    "Verify that jsValue belongs to the set of numbers in JavaScript.\n",
    "\n",
    "    typeof jsValue === \"number\"\n",
    "```"
   ]
  },
  {
   "cell_type": "markdown",
   "metadata": {},
   "source": [
    "#### Answer 3.3.1\n",
    "\n",
    "Complete the algorithm definition (using the same pseudo code format as the definitions above):\n",
    "\n",
    "```\n",
    "checkString:\n",
    "checkString(jsValue:any)=>boolean:\n",
    "Verify that jsValue belongs to the set of strings in JavaScript.\n",
    "\n",
    "    typeof jsValue === \"string\"\n",
    "\n",
    "checkBoolean:\n",
    "checkBoolean(jsValue:any)=>boolean:\n",
    "Verify that jsValue belongs to the set of booleans in JavaScript.\n",
    "\n",
    "    typeof jsValue === \"boolean\"\n",
    "\n",
    "```"
   ]
  },
  {
   "cell_type": "markdown",
   "metadata": {},
   "source": [
    "For compound type expressions - we need to check the JavaScript type of jsValue, verify what type of container it is (array or map), and if it matches the type denoted by `te` (array or map respectively) then, recursively, type check the components of the value.\n",
    "\n",
    "Note that in the recursive step, we break down jsValue using the JavaScript accessors of the JavaScript value container, and we break down the `te` type expression using the accessors of the Type Expression data type.\n",
    "\n",
    "For Array type expressions - this recursive method is defined as follows:\n",
    "```\n",
    "checkArray:\n",
    "checkArray(jsValue:any, te:TeArray)=>boolean:\n",
    "Verify the jsValue belongs to the set of array values denoted by te.\n",
    "\n",
    "    jsValue instanceof \"Array\" && every item in jsValue verifies\n",
    "        checkType(item, te.itemType)\n",
    "```"
   ]
  },
  {
   "cell_type": "markdown",
   "metadata": {},
   "source": [
    "#### Answer 3.3.2\n",
    "\n",
    "Complete the algorithm definition of:\n",
    "* checkMap\n",
    "\n",
    "checkMap:\n",
    "checkMap(jsValue:any, te:TeMap)=>boolean:\n",
    "Verify the jsValue belongs to the set of map values denoted by te.\n",
    "\n",
    "    jsValue instanceof \"Object\" && every value in jsValue verifies\n",
    "        checkType(jsValue.key, te.types[te.keys.indexOf(key)])\n"
   ]
  },
  {
   "cell_type": "markdown",
   "metadata": {},
   "source": [
    "### Question 3.4 Implement the typeCheck function\n",
    "\n",
    "Implement in TypeScript the recursive typeCheck algorithm defined above.\n",
    "Use the `switch` method to manipulate disjoint union types as discussed in class."
   ]
  },
  {
   "cell_type": "code",
   "execution_count": 27,
   "metadata": {
    "collapsed": false
   },
   "outputs": [
    {
     "data": {
      "text/plain": [
       "true"
      ]
     },
     "execution_count": 27,
     "metadata": {},
     "output_type": "execute_result"
    }
   ],
   "source": [
    "// Answer 3.4\n",
    "const checkNumber: (jsValue:any)=>boolean =\n",
    "    (jsValue) => typeof jsValue === \"number\"\n",
    "\n",
    "const checkString: (jsValue:any)=>boolean =\n",
    "    (jsValue) => typeof jsValue === \"string\"\n",
    "\n",
    "const checkBoolean: (jsValue:any)=>boolean =\n",
    "    (jsValue) => typeof jsValue === \"boolean\"\n",
    "\n",
    "const checkArray: (jsValue:any, te:TeArray)=>boolean =\n",
    "   (jsValue, te) =>  jsValue instanceof Array && jsValue.map( (childJsValue) => typeCheck(childJsValue, teArrayItemType(te))).reduce ((x, y)=>x&&y, true)\n",
    "\n",
    "const checkMap: (jsValue:any, te:TeMap)=>boolean =\n",
    "    (jsValue, te) => jsValue instanceof Object && Object.keys(jsValue).map( (key) => typeCheck(jsValue[key], teMapKey(te, key))).reduce ((x, y)=>x&&y, true)\n",
    "\n",
    "const typeCheck : (jsValue:any, te:TE)=>boolean =\n",
    "    (jsValue, te) => {\n",
    "      switch (true){\n",
    "        case (te===undefined): return false;\n",
    "        case isTeNumber(te): return checkNumber(jsValue);\n",
    "        case isTeString(te): return checkString(jsValue);\n",
    "        case isTeBoolean(te): return checkBoolean(jsValue);\n",
    "        case isTeArray(te): return checkArray(jsValue, <TeArray>te);\n",
    "        case isTeMap(te): return checkMap(jsValue, <TeMap>te);\n",
    "        default: return false;\n",
    "      }\n",
    "    }"
   ]
  },
  {
   "cell_type": "code",
   "execution_count": 28,
   "metadata": {
    "collapsed": false
   },
   "outputs": [
    {
     "data": {
      "text/plain": [
       "'all ok'"
      ]
     },
     "execution_count": 28,
     "metadata": {},
     "output_type": "execute_result"
    }
   ],
   "source": [
    "// Test typeCheck with 10 good tests covering the code in increasing order of complexity.\n",
    "// Make sure to test positive and negative cases (cases where typeCheck returns true and false).\n",
    "// Test 0\n",
    "assert.ok(true === typeCheck(\"test\", makeTeString()));\n",
    "\"all ok\""
   ]
  },
  {
   "cell_type": "code",
   "execution_count": 29,
   "metadata": {
    "collapsed": false
   },
   "outputs": [
    {
     "data": {
      "text/plain": [
       "'all ok'"
      ]
     },
     "execution_count": 29,
     "metadata": {},
     "output_type": "execute_result"
    }
   ],
   "source": [
    "// Test 1\n",
    "assert.ok(true === typeCheck(true, makeTeBoolean()));\n",
    "\"all ok\""
   ]
  },
  {
   "cell_type": "code",
   "execution_count": 30,
   "metadata": {
    "collapsed": false
   },
   "outputs": [
    {
     "data": {
      "text/plain": [
       "'all ok'"
      ]
     },
     "execution_count": 30,
     "metadata": {},
     "output_type": "execute_result"
    }
   ],
   "source": [
    "// Test 2\n",
    "assert.ok(true === typeCheck(9, makeTeNumber()));\n",
    "\"all ok\""
   ]
  },
  {
   "cell_type": "code",
   "execution_count": 31,
   "metadata": {
    "collapsed": false
   },
   "outputs": [
    {
     "data": {
      "text/plain": [
       "'all ok'"
      ]
     },
     "execution_count": 31,
     "metadata": {},
     "output_type": "execute_result"
    }
   ],
   "source": [
    "// Test 3\n",
    "assert.ok(false === typeCheck(false, makeTeString()));\n",
    "\"all ok\""
   ]
  },
  {
   "cell_type": "code",
   "execution_count": 32,
   "metadata": {
    "collapsed": false
   },
   "outputs": [
    {
     "data": {
      "text/plain": [
       "'all ok'"
      ]
     },
     "execution_count": 32,
     "metadata": {},
     "output_type": "execute_result"
    }
   ],
   "source": [
    "// Test 4\n",
    "assert.ok(true === typeCheck([1,2,3], makeTeArray(makeTeNumber())));\n",
    "\"all ok\""
   ]
  },
  {
   "cell_type": "code",
   "execution_count": 33,
   "metadata": {
    "collapsed": false
   },
   "outputs": [
    {
     "data": {
      "text/plain": [
       "'all ok'"
      ]
     },
     "execution_count": 33,
     "metadata": {},
     "output_type": "execute_result"
    }
   ],
   "source": [
    "// Test 5\n",
    "assert.ok(false === typeCheck([1,2,3], makeTeArray(makeTeString())));\n",
    "\"all ok\""
   ]
  },
  {
   "cell_type": "code",
   "execution_count": 34,
   "metadata": {
    "collapsed": false
   },
   "outputs": [
    {
     "data": {
      "text/plain": [
       "'all ok'"
      ]
     },
     "execution_count": 34,
     "metadata": {},
     "output_type": "execute_result"
    }
   ],
   "source": [
    "// Test 6\n",
    "assert.ok(true === typeCheck([[90],[80],[90]], makeTeArray(makeTeArray(makeTeNumber()))));\n",
    "\"all ok\""
   ]
  },
  {
   "cell_type": "code",
   "execution_count": 35,
   "metadata": {
    "collapsed": false
   },
   "outputs": [
    {
     "data": {
      "text/plain": [
       "'all ok'"
      ]
     },
     "execution_count": 35,
     "metadata": {},
     "output_type": "execute_result"
    }
   ],
   "source": [
    "// Test 7\n",
    "assert.ok(true === typeCheck({a:8, b:\"8\"}, makeTeMap([\"a\", \"b\"],[makeTeNumber(), makeTeString()])));\n",
    "\"all ok\""
   ]
  },
  {
   "cell_type": "code",
   "execution_count": 36,
   "metadata": {
    "collapsed": false
   },
   "outputs": [
    {
     "data": {
      "text/plain": [
       "'all ok'"
      ]
     },
     "execution_count": 36,
     "metadata": {},
     "output_type": "execute_result"
    }
   ],
   "source": [
    "// Test 8\n",
    "assert.ok(false === typeCheck({a:8, c:\"8\"}, makeTeMap([\"a\", \"b\"],[makeTeNumber(), makeTeString()])));\n",
    "\"all ok\""
   ]
  },
  {
   "cell_type": "code",
   "execution_count": 37,
   "metadata": {
    "collapsed": false
   },
   "outputs": [
    {
     "data": {
      "text/plain": [
       "'all ok'"
      ]
     },
     "execution_count": 37,
     "metadata": {},
     "output_type": "execute_result"
    }
   ],
   "source": [
    "// Test 9\n",
    "// { a:string; b:number[]; c:{c1:boolean; c2:string[][]}}\n",
    "let obj2 = makeTeMap([\"a\", \"b\", \"c\"],[makeTeString(), makeTeArray(makeTeNumber()), makeTeMap([\"c1\", \"c2\"],[makeTeBoolean(), makeTeArray(makeTeArray(makeTeString()))])])\n",
    "assert.ok(true === typeCheck({a:\"123\", b:[1,2,3], c:{c1:false, c2:[[\"o\",\"k\"],[\"g\",\"o\",\"o\",\"d\"]]}}, obj2));\n",
    "\"all ok\""
   ]
  }
 ],
 "metadata": {
  "anaconda-cloud": {},
  "kernelspec": {
   "display_name": "Typescript 2.2",
   "language": "typescript",
   "name": "typescript"
  },
  "language_info": {
   "file_extension": ".ts",
   "mimetype": "text/x-typescript",
   "name": "typescript",
   "version": "2.2.1"
  }
 },
 "nbformat": 4,
 "nbformat_minor": 1
}
